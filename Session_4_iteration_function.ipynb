{
  "nbformat": 4,
  "nbformat_minor": 0,
  "metadata": {
    "colab": {
      "provenance": []
    },
    "kernelspec": {
      "name": "python3",
      "display_name": "Python 3"
    },
    "language_info": {
      "name": "python"
    }
  },
  "cells": [
    {
      "cell_type": "markdown",
      "source": [
        "# Iteration\n",
        "## For Loop"
      ],
      "metadata": {
        "id": "JOoxPNDObWFJ"
      }
    },
    {
      "cell_type": "code",
      "execution_count": null,
      "metadata": {
        "id": "D2r88QAaVGiI"
      },
      "outputs": [],
      "source": [
        "# contoh syntax for loop\n",
        "for target in iretable:\n",
        "  statment(s)"
      ]
    },
    {
      "cell_type": "code",
      "source": [
        "# mencoba perulangan dengan list\n",
        "list_angka = [1, 3, 5, 7, 9]\n",
        "\n",
        "for i in list_angka:\n",
        "  print(i)"
      ],
      "metadata": {
        "colab": {
          "base_uri": "https://localhost:8080/"
        },
        "id": "A9jMQA4vbrTC",
        "outputId": "254a57c8-17a4-4de9-aaeb-970472bc5b16"
      },
      "execution_count": 1,
      "outputs": [
        {
          "output_type": "stream",
          "name": "stdout",
          "text": [
            "1\n",
            "3\n",
            "5\n",
            "7\n",
            "9\n"
          ]
        }
      ]
    },
    {
      "cell_type": "code",
      "source": [
        "# mencoba perulangan dengan tuple\n",
        "tuple_angka = (1, 2, 3, 4, 5, 6)\n",
        "for i in tuple_angka:\n",
        "  print(i)"
      ],
      "metadata": {
        "colab": {
          "base_uri": "https://localhost:8080/"
        },
        "id": "50KFeiJgb6GD",
        "outputId": "bdc08823-fcc7-4fca-e9e8-8d5b57dac273"
      },
      "execution_count": 2,
      "outputs": [
        {
          "output_type": "stream",
          "name": "stdout",
          "text": [
            "1\n",
            "2\n",
            "3\n",
            "4\n",
            "5\n",
            "6\n"
          ]
        }
      ]
    },
    {
      "cell_type": "code",
      "source": [
        "# mengecek apakah dapat data dapat diiterasikan atau tidak\n",
        "iter({2, 4, 6})"
      ],
      "metadata": {
        "colab": {
          "base_uri": "https://localhost:8080/"
        },
        "id": "J0iPoytncH15",
        "outputId": "a55cd208-a716-4ff6-91af-6209dfbfbaa7"
      },
      "execution_count": 5,
      "outputs": [
        {
          "output_type": "execute_result",
          "data": {
            "text/plain": [
              "<set_iterator at 0x7f0aba9d3700>"
            ]
          },
          "metadata": {},
          "execution_count": 5
        }
      ]
    },
    {
      "cell_type": "code",
      "source": [
        "# looping mengguanakan range\n",
        "for i in range(5):\n",
        "  print(i)"
      ],
      "metadata": {
        "colab": {
          "base_uri": "https://localhost:8080/"
        },
        "id": "Fx3c6ZtYcWOT",
        "outputId": "176b5e80-7541-41dd-c5e9-53bd7b8df5ad"
      },
      "execution_count": 6,
      "outputs": [
        {
          "output_type": "stream",
          "name": "stdout",
          "text": [
            "0\n",
            "1\n",
            "2\n",
            "3\n",
            "4\n"
          ]
        }
      ]
    },
    {
      "cell_type": "code",
      "source": [
        "for i in range(1, 11):\n",
        "  print(i)"
      ],
      "metadata": {
        "colab": {
          "base_uri": "https://localhost:8080/"
        },
        "id": "NOLRfpWrcnMn",
        "outputId": "527c2d78-b74d-48df-8e54-154a98d2c87f"
      },
      "execution_count": 7,
      "outputs": [
        {
          "output_type": "stream",
          "name": "stdout",
          "text": [
            "1\n",
            "2\n",
            "3\n",
            "4\n",
            "5\n",
            "6\n",
            "7\n",
            "8\n",
            "9\n",
            "10\n"
          ]
        }
      ]
    },
    {
      "cell_type": "code",
      "source": [
        "#digunakan untuk apabila mau lompat 2 2 untuk bilangan yang ditampilkan\n",
        "for i in range(1, 21, 2):\n",
        "  print(i)"
      ],
      "metadata": {
        "colab": {
          "base_uri": "https://localhost:8080/"
        },
        "id": "Q2agEbOhctbE",
        "outputId": "7c130726-fade-457e-bde7-26d29b9bc4da"
      },
      "execution_count": 8,
      "outputs": [
        {
          "output_type": "stream",
          "name": "stdout",
          "text": [
            "1\n",
            "3\n",
            "5\n",
            "7\n",
            "9\n",
            "11\n",
            "13\n",
            "15\n",
            "17\n",
            "19\n"
          ]
        }
      ]
    },
    {
      "cell_type": "code",
      "source": [
        "# statment bisa lebih dari satu\n",
        "for i in range(1, 11):\n",
        "  kuadrat = i*i\n",
        "  print(f'kuadrat {i} adalah {kuadrat}')"
      ],
      "metadata": {
        "colab": {
          "base_uri": "https://localhost:8080/"
        },
        "id": "V9Ir1weRc6N_",
        "outputId": "6725f974-adab-45c6-c908-a38348b92275"
      },
      "execution_count": 9,
      "outputs": [
        {
          "output_type": "stream",
          "name": "stdout",
          "text": [
            "kuadrat 1 adalah 1\n",
            "kuadrat 2 adalah 4\n",
            "kuadrat 3 adalah 9\n",
            "kuadrat 4 adalah 16\n",
            "kuadrat 5 adalah 25\n",
            "kuadrat 6 adalah 36\n",
            "kuadrat 7 adalah 49\n",
            "kuadrat 8 adalah 64\n",
            "kuadrat 9 adalah 81\n",
            "kuadrat 10 adalah 100\n"
          ]
        }
      ]
    },
    {
      "cell_type": "code",
      "source": [
        "# terdapat 50 user_id dari 101 sampai 150\n",
        "# kita akan memilih beberapa user\n",
        "# dengan kriteria:\n",
        "# jika nilai user_id adalah bilangan kelipatan 5 yang habis dibagi 2\n",
        "# gunakan for loop dan cantumkan user yang masuk kriteria\n",
        "# hint: \n",
        "# buat list kosong nanti dimasukkan nilai yang sesuai kriteria\n",
        "# nilai user_id yang masuk kriteria dimasukkan ke dalam list kosong tsb\n",
        "\n",
        "user_id = []\n",
        "user_id_choosen = []\n",
        "for i in range(101, 151):\n",
        "  user_id.append(i)\n",
        "  if i % 5 == 0 and i % 2 == 0:\n",
        "    user_id_choosen.append(i)\n",
        "\n",
        "print(f'user id: {user_id}')\n",
        "print(f'user id terpilih: {user_id_choosen}')\n"
      ],
      "metadata": {
        "colab": {
          "base_uri": "https://localhost:8080/"
        },
        "id": "L4jXHExrdRJb",
        "outputId": "3ed259a2-c96f-4929-b15c-fd9e910fd17d"
      },
      "execution_count": 14,
      "outputs": [
        {
          "output_type": "stream",
          "name": "stdout",
          "text": [
            "user id: [101, 102, 103, 104, 105, 106, 107, 108, 109, 110, 111, 112, 113, 114, 115, 116, 117, 118, 119, 120, 121, 122, 123, 124, 125, 126, 127, 128, 129, 130, 131, 132, 133, 134, 135, 136, 137, 138, 139, 140, 141, 142, 143, 144, 145, 146, 147, 148, 149, 150]\n",
            "user id terpilih: [110, 120, 130, 140, 150]\n"
          ]
        }
      ]
    },
    {
      "cell_type": "code",
      "source": [
        "list_angka = [1, 3, 5, 7, 9]\n",
        "\n",
        "for i in list_angka:\n",
        "  print(i)"
      ],
      "metadata": {
        "colab": {
          "base_uri": "https://localhost:8080/"
        },
        "id": "Ta6YimvxfE8O",
        "outputId": "3fae3f4b-a983-4f8f-bf85-57e97d5c9243"
      },
      "execution_count": 15,
      "outputs": [
        {
          "output_type": "stream",
          "name": "stdout",
          "text": [
            "1\n",
            "3\n",
            "5\n",
            "7\n",
            "9\n"
          ]
        }
      ]
    },
    {
      "cell_type": "code",
      "source": [
        "# memunculkan index secara manual\n",
        "for i in list_angka:\n",
        "  print(f'index {list_angka.index(i)} bernilai {i}')"
      ],
      "metadata": {
        "colab": {
          "base_uri": "https://localhost:8080/"
        },
        "id": "tgsr1RgXhsxZ",
        "outputId": "2c28c2a3-23b9-4fbd-e200-8de819d9170a"
      },
      "execution_count": 16,
      "outputs": [
        {
          "output_type": "stream",
          "name": "stdout",
          "text": [
            "index 0 bernilai 1\n",
            "index 1 bernilai 3\n",
            "index 2 bernilai 5\n",
            "index 3 bernilai 7\n",
            "index 4 bernilai 9\n"
          ]
        }
      ]
    },
    {
      "cell_type": "code",
      "source": [
        "# kekurangan\n",
        "# apabila ditambahkan angka yang sama dia menampilkan indeks yang sama juga\n",
        "list_angka = [1, 3, 5, 7, 9, 1]\n",
        "\n",
        "for i in list_angka:\n",
        "  print(f'index {list_angka.index(i)} bernilai {i}')"
      ],
      "metadata": {
        "colab": {
          "base_uri": "https://localhost:8080/"
        },
        "id": "cPF8iGjJiEqw",
        "outputId": "2057c3b9-7ded-49f2-c690-5dcc968f503e"
      },
      "execution_count": 17,
      "outputs": [
        {
          "output_type": "stream",
          "name": "stdout",
          "text": [
            "index 0 bernilai 1\n",
            "index 1 bernilai 3\n",
            "index 2 bernilai 5\n",
            "index 3 bernilai 7\n",
            "index 4 bernilai 9\n",
            "index 0 bernilai 1\n"
          ]
        }
      ]
    },
    {
      "cell_type": "code",
      "source": [
        "# memunculkan indeks yang sesuai (.enumerate)\n",
        "list_angka = [1, 3, 5, 7, 9, 1]\n",
        "\n",
        "for i, x in enumerate(list_angka):\n",
        "  print(f'index {i} bernilai {x}')"
      ],
      "metadata": {
        "colab": {
          "base_uri": "https://localhost:8080/"
        },
        "id": "8uQ_oXkFiPvn",
        "outputId": "7b0f98f3-6970-4b9c-878e-1e335980872d"
      },
      "execution_count": 18,
      "outputs": [
        {
          "output_type": "stream",
          "name": "stdout",
          "text": [
            "index 0 bernilai 1\n",
            "index 1 bernilai 3\n",
            "index 2 bernilai 5\n",
            "index 3 bernilai 7\n",
            "index 4 bernilai 9\n",
            "index 5 bernilai 1\n"
          ]
        }
      ]
    },
    {
      "cell_type": "code",
      "source": [
        "# data iteralenya multidimensi\n",
        "data = [\n",
        "    [1, 'Andi'],\n",
        "    [2, 'Toni'],\n",
        "    [3, 'Budi'],\n",
        "    [6, 'Jeni']\n",
        "]\n",
        "\n",
        "for m, n in data:\n",
        "  print(f'nomor {m}, namanya {n}')\n",
        "\n",
        "for i in data:\n",
        "  print(i)\n",
        "\n",
        "for m, n in data:\n",
        "  print(f'namanya {n}')"
      ],
      "metadata": {
        "colab": {
          "base_uri": "https://localhost:8080/"
        },
        "id": "pPz9MLaZiuQs",
        "outputId": "d1a6db82-7a94-49cd-e709-b527b0ae1b6d"
      },
      "execution_count": 22,
      "outputs": [
        {
          "output_type": "stream",
          "name": "stdout",
          "text": [
            "nomor 1, namanya Andi\n",
            "nomor 2, namanya Toni\n",
            "nomor 3, namanya Budi\n",
            "nomor 6, namanya Jeni\n",
            "[1, 'Andi']\n",
            "[2, 'Toni']\n",
            "[3, 'Budi']\n",
            "[6, 'Jeni']\n",
            "namanya Andi\n",
            "namanya Toni\n",
            "namanya Budi\n",
            "namanya Jeni\n"
          ]
        }
      ]
    },
    {
      "cell_type": "code",
      "source": [
        "# memuat lis baru dari suatu loop\n",
        "nilai = [50, 60, 70, 80, 90, 30]\n",
        "status = []\n",
        "\n",
        "for i in nilai:\n",
        "  if i > 70:\n",
        "    status.append('Lulus')\n",
        "  else:\n",
        "    status.append('Tidak Lulus')\n",
        "\n",
        "print(nilai)\n",
        "print(status)"
      ],
      "metadata": {
        "colab": {
          "base_uri": "https://localhost:8080/"
        },
        "id": "V8FMiB-njsvP",
        "outputId": "f089d98b-1c07-4d12-90a6-f4e7b435315e"
      },
      "execution_count": 23,
      "outputs": [
        {
          "output_type": "stream",
          "name": "stdout",
          "text": [
            "[50, 60, 70, 80, 90, 30]\n",
            "['Tidak Lulus', 'Tidak Lulus', 'Tidak Lulus', 'Lulus', 'Lulus', 'Tidak Lulus']\n"
          ]
        }
      ]
    },
    {
      "cell_type": "code",
      "source": [
        "# one line loop\n",
        "nilai = [50, 60, 70, 80, 90, 30]\n",
        "status = ['Lulus' if i >= 70 else 'tidak Lulus' for i in nilai]\n",
        "\n",
        "print(nilai)\n",
        "print(status)"
      ],
      "metadata": {
        "colab": {
          "base_uri": "https://localhost:8080/"
        },
        "id": "ALPkvVBFkokm",
        "outputId": "e84ab488-2e6c-4ef3-c4ed-58fd529de207"
      },
      "execution_count": 24,
      "outputs": [
        {
          "output_type": "stream",
          "name": "stdout",
          "text": [
            "[50, 60, 70, 80, 90, 30]\n",
            "['tidak Lulus', 'tidak Lulus', 'Lulus', 'Lulus', 'Lulus', 'tidak Lulus']\n"
          ]
        }
      ]
    },
    {
      "cell_type": "code",
      "source": [
        "# nasted for\n",
        "# memasangkan semua category tetapi tidak dengan category itu sendiri\n",
        "category_list = ['makanan', 'minuman', 'fashion', 'elektronik']\n",
        "bundling_list = []\n",
        "\n",
        "for i in category_list:\n",
        "  category = i\n",
        "  for y in category_list:\n",
        "    if i != y:\n",
        "      category_2 = y\n",
        "      bundling = i + '-' + y\n",
        "      bundling_list.append(bundling)"
      ],
      "metadata": {
        "id": "XKNMbdz8k8pZ"
      },
      "execution_count": 26,
      "outputs": []
    },
    {
      "cell_type": "code",
      "source": [
        "bundling_list"
      ],
      "metadata": {
        "colab": {
          "base_uri": "https://localhost:8080/"
        },
        "id": "OSJXjyrmmMWV",
        "outputId": "e64e51e2-bdd2-42c6-efb7-8675f38ef11d"
      },
      "execution_count": 27,
      "outputs": [
        {
          "output_type": "execute_result",
          "data": {
            "text/plain": [
              "['makanan-minuman',\n",
              " 'makanan-fashion',\n",
              " 'makanan-elektronik',\n",
              " 'minuman-makanan',\n",
              " 'minuman-fashion',\n",
              " 'minuman-elektronik',\n",
              " 'fashion-makanan',\n",
              " 'fashion-minuman',\n",
              " 'fashion-elektronik',\n",
              " 'elektronik-makanan',\n",
              " 'elektronik-minuman',\n",
              " 'elektronik-fashion']"
            ]
          },
          "metadata": {},
          "execution_count": 27
        }
      ]
    },
    {
      "cell_type": "markdown",
      "source": [
        "challange\n",
        "- list_order = [10, 1, 2, 3, 25, 11, 22, 30, 35]\n",
        "- tetukan ada berapa banyak customer yang orderannya di atas rata - rata\n",
        "- tampilkan nilai rata - rata\n",
        "- tampilkan orderan yang diatas rata - rata\n",
        "- tampilkan jumlah orderan diatas rata - rata"
      ],
      "metadata": {
        "id": "JmpUBUlbm5LT"
      }
    },
    {
      "cell_type": "code",
      "source": [
        "import numpy as np\n",
        "\n",
        "list_order = [10, 1, 2, 3, 25, 11, 22, 30, 35]\n",
        "\n",
        "list_order_array = np.array(list_order)\n",
        "mean = np.mean(list_order_array)\n",
        "lebih = []\n",
        "\n",
        "for i in list_order_array:\n",
        "  if i > mean:\n",
        "    lebih.append(i)\n",
        "\n",
        "print(f'rata - rata: {mean}')\n",
        "print(f'orderan yang diatas rata - rata: {lebih}')\n",
        "print(f'banyak orderan yang diatas rata - rata: {len(lebih)}')"
      ],
      "metadata": {
        "colab": {
          "base_uri": "https://localhost:8080/"
        },
        "id": "7RPpCGx2mfx_",
        "outputId": "619f59ab-b852-4809-9558-75f5405635b3"
      },
      "execution_count": 32,
      "outputs": [
        {
          "output_type": "stream",
          "name": "stdout",
          "text": [
            "rata - rata: 15.444444444444445\n",
            "orderan yang diatas rata - rata: [25, 22, 30, 35]\n",
            "banyak orderan yang diatas rata - rata: 4\n"
          ]
        }
      ]
    },
    {
      "cell_type": "code",
      "source": [
        "# looping pada dictionary\n",
        "# manual\n",
        "seller_category = {\n",
        "    'A': ['makanan', 'minuman', 'elektronik'],\n",
        "    'B': ['fashion', 'makanan'],\n",
        "    'C': ['minuman'],\n",
        "    'D': ['aksesoris', 'fashion']\n",
        "}\n",
        "\n",
        "for i in seller_category:\n",
        "  print(f'seller {i} berjualan {seller_category[i]}')"
      ],
      "metadata": {
        "colab": {
          "base_uri": "https://localhost:8080/"
        },
        "id": "sqbJwFHEpKMQ",
        "outputId": "b4d01f46-da7f-473e-f7a4-026951583039"
      },
      "execution_count": 36,
      "outputs": [
        {
          "output_type": "stream",
          "name": "stdout",
          "text": [
            "seller A berjualan ['makanan', 'minuman', 'elektronik']\n",
            "seller B berjualan ['fashion', 'makanan']\n",
            "seller C berjualan ['minuman']\n",
            "seller D berjualan ['aksesoris', 'fashion']\n"
          ]
        }
      ]
    },
    {
      "cell_type": "code",
      "source": [
        "# yang benar\n",
        "for key, value in seller_category.items():\n",
        "  print(f'seller {key} berjualan {value}')"
      ],
      "metadata": {
        "colab": {
          "base_uri": "https://localhost:8080/"
        },
        "id": "o5s-Wbf1q97g",
        "outputId": "41a6da83-9c12-415b-9800-c220607c292e"
      },
      "execution_count": 37,
      "outputs": [
        {
          "output_type": "stream",
          "name": "stdout",
          "text": [
            "seller A berjualan ['makanan', 'minuman', 'elektronik']\n",
            "seller B berjualan ['fashion', 'makanan']\n",
            "seller C berjualan ['minuman']\n",
            "seller D berjualan ['aksesoris', 'fashion']\n"
          ]
        }
      ]
    },
    {
      "cell_type": "code",
      "source": [
        "# membuat dict baru dari suatu looping\n",
        "new_dict = {}\n",
        "\n",
        "for key, value in seller_category.items():\n",
        "  if 'minuman' in value:\n",
        "    new_dict.update({key : value})\n",
        "\n",
        "print(new_dict)"
      ],
      "metadata": {
        "colab": {
          "base_uri": "https://localhost:8080/"
        },
        "id": "S5SYQInZrY2j",
        "outputId": "3b95fe8f-145a-4d70-dfb9-7d5388ac6c10"
      },
      "execution_count": 38,
      "outputs": [
        {
          "output_type": "stream",
          "name": "stdout",
          "text": [
            "{'A': ['makanan', 'minuman', 'elektronik'], 'C': ['minuman']}\n"
          ]
        }
      ]
    },
    {
      "cell_type": "code",
      "source": [
        "# dari seller category di atas, buat dictionary baru (new_seller)\n",
        "# ambil data seller yang menjual fashion\n",
        "\n",
        "dict_fashion = {}\n",
        "\n",
        "for key, value in seller_category.items():\n",
        "  if 'fashion' in value:\n",
        "    dict_fashion.update({key : value})\n",
        "\n",
        "print(dict_fashion)"
      ],
      "metadata": {
        "colab": {
          "base_uri": "https://localhost:8080/"
        },
        "id": "rcSqbnIqryPd",
        "outputId": "b9a57ee8-5d29-43ea-b717-9cd24289c54a"
      },
      "execution_count": 40,
      "outputs": [
        {
          "output_type": "stream",
          "name": "stdout",
          "text": [
            "{'B': ['fashion', 'makanan'], 'D': ['aksesoris', 'fashion']}\n"
          ]
        }
      ]
    },
    {
      "cell_type": "markdown",
      "source": [
        "## While Loop"
      ],
      "metadata": {
        "id": "9kWl5HLXz863"
      }
    },
    {
      "cell_type": "code",
      "source": [
        "# while loop\n",
        "while expression:\n",
        "  statment(s)"
      ],
      "metadata": {
        "id": "bhDTFpe9sVx1"
      },
      "execution_count": null,
      "outputs": []
    },
    {
      "cell_type": "code",
      "source": [
        "i = 0\n",
        "while i < 5:\n",
        "  print(i)\n",
        "  i += 1 # harus diberi batas agar tidak terjadi infinite loop"
      ],
      "metadata": {
        "colab": {
          "base_uri": "https://localhost:8080/"
        },
        "id": "tS2BsigR0JN9",
        "outputId": "ee23d90c-de57-4ea3-8b4b-c0fa0aacbc51"
      },
      "execution_count": 41,
      "outputs": [
        {
          "output_type": "stream",
          "name": "stdout",
          "text": [
            "0\n",
            "1\n",
            "2\n",
            "3\n",
            "4\n"
          ]
        }
      ]
    },
    {
      "cell_type": "code",
      "source": [
        "# break\n",
        "i = 1\n",
        "while i < 6:\n",
        "  print(i)\n",
        "  if i == 3:\n",
        "    break\n",
        "  i += 1"
      ],
      "metadata": {
        "colab": {
          "base_uri": "https://localhost:8080/"
        },
        "id": "PwB6MqmL0ZIb",
        "outputId": "dbd71338-eaab-4364-df85-a4018e06aab6"
      },
      "execution_count": 42,
      "outputs": [
        {
          "output_type": "stream",
          "name": "stdout",
          "text": [
            "1\n",
            "2\n",
            "3\n"
          ]
        }
      ]
    },
    {
      "cell_type": "code",
      "source": [
        "# continue\n",
        "i = 0\n",
        "while i < 6:\n",
        "  i += 1\n",
        "  if i == 3:\n",
        "    continue\n",
        "  print(i)"
      ],
      "metadata": {
        "colab": {
          "base_uri": "https://localhost:8080/"
        },
        "id": "_4Zix6zd1CEh",
        "outputId": "090623e3-a641-40b8-e7f1-5130050f8069"
      },
      "execution_count": 44,
      "outputs": [
        {
          "output_type": "stream",
          "name": "stdout",
          "text": [
            "1\n",
            "2\n",
            "4\n",
            "5\n",
            "6\n"
          ]
        }
      ]
    },
    {
      "cell_type": "code",
      "source": [
        "i = 1\n",
        "while i < 6:\n",
        "  print(i)\n",
        "  i += 1\n",
        "else:\n",
        "  print('looping telah berakhir')"
      ],
      "metadata": {
        "colab": {
          "base_uri": "https://localhost:8080/"
        },
        "id": "yv2szV8v1U6I",
        "outputId": "32b25447-1486-4ea8-87ee-1eb3a5f9f727"
      },
      "execution_count": 45,
      "outputs": [
        {
          "output_type": "stream",
          "name": "stdout",
          "text": [
            "1\n",
            "2\n",
            "3\n",
            "4\n",
            "5\n",
            "looping telah berakhir\n"
          ]
        }
      ]
    },
    {
      "cell_type": "code",
      "source": [
        "# manfaat while adalah memberi batasan agar tidak melakukan looping hingga akhir data\n",
        "# akan berhenti apabila data ditemukan"
      ],
      "metadata": {
        "id": "ehP3KVvk2CzG"
      },
      "execution_count": 46,
      "outputs": []
    },
    {
      "cell_type": "code",
      "source": [
        "data = [1, 2, 3, 50, 45, 33, 70, 20]\n",
        "target = 50\n",
        "found = False\n",
        "i = 0\n",
        "\n",
        "while i < len(data) and not found:\n",
        "  if data[i] == target:\n",
        "    found = True\n",
        "  else:\n",
        "    i += 1\n",
        "\n",
        "if found:\n",
        "  print(f'target {target} found at index {i}')\n",
        "else:\n",
        "  print(f'target {target} not found')"
      ],
      "metadata": {
        "colab": {
          "base_uri": "https://localhost:8080/"
        },
        "id": "MCFOMBt02Xwi",
        "outputId": "0bc39905-3284-45c9-95d1-b0605cf17c89"
      },
      "execution_count": 51,
      "outputs": [
        {
          "output_type": "stream",
          "name": "stdout",
          "text": [
            "target 50 found at index 3\n"
          ]
        }
      ]
    },
    {
      "cell_type": "markdown",
      "source": [
        "# Function"
      ],
      "metadata": {
        "id": "gIHCC8g54s3C"
      }
    },
    {
      "cell_type": "code",
      "source": [
        "def cetak_kalimat():\n",
        "  print('belajar pyhton itu mudah')"
      ],
      "metadata": {
        "id": "yYLYfYqu3hHo"
      },
      "execution_count": 52,
      "outputs": []
    },
    {
      "cell_type": "code",
      "source": [
        "cetak_kalimat()"
      ],
      "metadata": {
        "colab": {
          "base_uri": "https://localhost:8080/"
        },
        "id": "lJHzuTzt44gI",
        "outputId": "6874de51-4bb9-4495-85af-a840c78123eb"
      },
      "execution_count": 53,
      "outputs": [
        {
          "output_type": "stream",
          "name": "stdout",
          "text": [
            "belajar pyhton itu mudah\n"
          ]
        }
      ]
    },
    {
      "cell_type": "code",
      "source": [
        "cetak_kalimat"
      ],
      "metadata": {
        "colab": {
          "base_uri": "https://localhost:8080/"
        },
        "id": "0BM0e_7z47ES",
        "outputId": "9bffad44-457b-49a5-e5cc-5b7856f9a11a"
      },
      "execution_count": 54,
      "outputs": [
        {
          "output_type": "execute_result",
          "data": {
            "text/plain": [
              "<function __main__.cetak_kalimat()>"
            ]
          },
          "metadata": {},
          "execution_count": 54
        }
      ]
    },
    {
      "cell_type": "code",
      "source": [
        "nilai.append"
      ],
      "metadata": {
        "colab": {
          "base_uri": "https://localhost:8080/"
        },
        "id": "PvIvVaDM5CAO",
        "outputId": "6ac53987-39e3-4bc8-f4e1-5a81a6f86d66"
      },
      "execution_count": 55,
      "outputs": [
        {
          "output_type": "execute_result",
          "data": {
            "text/plain": [
              "<function list.append(object, /)>"
            ]
          },
          "metadata": {},
          "execution_count": 55
        }
      ]
    },
    {
      "cell_type": "code",
      "source": [
        "# output fungsi\n",
        "def perkalian(a, b):\n",
        "  print(a * b)"
      ],
      "metadata": {
        "id": "6IVcC3c45Q-a"
      },
      "execution_count": 56,
      "outputs": []
    },
    {
      "cell_type": "code",
      "source": [
        "perkalian(4, 4)"
      ],
      "metadata": {
        "colab": {
          "base_uri": "https://localhost:8080/"
        },
        "id": "1_yypVA35kxm",
        "outputId": "4a0fba20-1b96-4ec1-c0fa-471db776ae50"
      },
      "execution_count": 58,
      "outputs": [
        {
          "output_type": "stream",
          "name": "stdout",
          "text": [
            "16\n"
          ]
        }
      ]
    },
    {
      "cell_type": "code",
      "source": [
        "nilai = perkalian(5, 5)"
      ],
      "metadata": {
        "colab": {
          "base_uri": "https://localhost:8080/"
        },
        "id": "DED0Dyda5oTL",
        "outputId": "b08613b7-f393-4db7-8da8-3ba2de148fa2"
      },
      "execution_count": 59,
      "outputs": [
        {
          "output_type": "stream",
          "name": "stdout",
          "text": [
            "25\n"
          ]
        }
      ]
    },
    {
      "cell_type": "code",
      "source": [
        "# output fungsi (return)\n",
        "# nanti outputnya harus di masukkan kedalam print\n",
        "def penjumlahan(a, b):\n",
        "  return a + b\n"
      ],
      "metadata": {
        "id": "AXqzNUr_5v-q"
      },
      "execution_count": 60,
      "outputs": []
    },
    {
      "cell_type": "code",
      "source": [
        "penjumlahan(5, 6)"
      ],
      "metadata": {
        "colab": {
          "base_uri": "https://localhost:8080/"
        },
        "id": "pzoMMtKP6Dys",
        "outputId": "21dbc05b-3b0c-4d6a-b3c9-c41dd17c9e20"
      },
      "execution_count": 61,
      "outputs": [
        {
          "output_type": "execute_result",
          "data": {
            "text/plain": [
              "11"
            ]
          },
          "metadata": {},
          "execution_count": 61
        }
      ]
    },
    {
      "cell_type": "code",
      "source": [
        "nilai = penjumlahan(4, 6)"
      ],
      "metadata": {
        "id": "ISBh2r-f6Gmj"
      },
      "execution_count": 62,
      "outputs": []
    },
    {
      "cell_type": "code",
      "source": [
        "nilai"
      ],
      "metadata": {
        "colab": {
          "base_uri": "https://localhost:8080/"
        },
        "id": "7shh9z7M6L4U",
        "outputId": "b5da7a17-1040-405b-9139-7aae10cb0920"
      },
      "execution_count": 63,
      "outputs": [
        {
          "output_type": "execute_result",
          "data": {
            "text/plain": [
              "10"
            ]
          },
          "metadata": {},
          "execution_count": 63
        }
      ]
    },
    {
      "cell_type": "code",
      "source": [
        "# default variable\n",
        "# biar tidak terjadi error apabila tidak didefinisikan ketika fungsi dijalankan\n",
        "def belajar(var = 'python'):\n",
        "  print(f'saya sedang belajar {var}')"
      ],
      "metadata": {
        "id": "zBkxu15F6My3"
      },
      "execution_count": 64,
      "outputs": []
    },
    {
      "cell_type": "code",
      "source": [
        "belajar('fungsi')"
      ],
      "metadata": {
        "colab": {
          "base_uri": "https://localhost:8080/"
        },
        "id": "LYamaWeu6njS",
        "outputId": "0ef493f6-18af-475a-ee77-61f9199ea39a"
      },
      "execution_count": 65,
      "outputs": [
        {
          "output_type": "stream",
          "name": "stdout",
          "text": [
            "saya sedang belajar fungsi\n"
          ]
        }
      ]
    },
    {
      "cell_type": "code",
      "source": [
        "belajar()"
      ],
      "metadata": {
        "colab": {
          "base_uri": "https://localhost:8080/"
        },
        "id": "Fatc9Z0p6tlC",
        "outputId": "03a5aa6d-e90b-4eb0-bdbc-04dc50fbf294"
      },
      "execution_count": 66,
      "outputs": [
        {
          "output_type": "stream",
          "name": "stdout",
          "text": [
            "saya sedang belajar python\n"
          ]
        }
      ]
    },
    {
      "cell_type": "code",
      "source": [
        "# doc string\n",
        "# digunakan untuk memberikan komen\n",
        "def deteksi_genap(var):\n",
        "  '''\n",
        "  ini adalah fungsi untuk mendeteksi suatu bilangan bernilai genap\n",
        "  '''\n",
        "  if var % 2 == 0:\n",
        "    print(f'{var} adalah bilangan genap')\n",
        "  else:\n",
        "    print(f'{var} adalah bilangan ganjil')"
      ],
      "metadata": {
        "id": "nOpbtCWg6vMQ"
      },
      "execution_count": 68,
      "outputs": []
    },
    {
      "cell_type": "code",
      "source": [
        "deteksi_genap(1234664)"
      ],
      "metadata": {
        "colab": {
          "base_uri": "https://localhost:8080/"
        },
        "id": "KiqMkA6z6y2_",
        "outputId": "5247b07d-7750-4998-d9b2-023dcf162fd2"
      },
      "execution_count": 69,
      "outputs": [
        {
          "output_type": "stream",
          "name": "stdout",
          "text": [
            "1234664 adalah bilangan genap\n"
          ]
        }
      ]
    },
    {
      "cell_type": "code",
      "source": [
        "# challenge\n",
        "# buatlah suatu fungsi yang bisa mendeteksi kata 'python'\n",
        "# memberikan nilai True jika ditemukan dan flase dija tidak ditemukan\n",
        "# untuk melakukan pengecekan silahkan gunakan metode input\n",
        "# struktur\n",
        "# def\n",
        "# input kalimat -> fungsi cek kalimat\n",
        "\n",
        "def deteksi_kalimat(kata):\n",
        "  if 'python' in kata:\n",
        "    return True\n",
        "  else:\n",
        "    return False"
      ],
      "metadata": {
        "id": "tPhdh0xj7sgD"
      },
      "execution_count": 74,
      "outputs": []
    },
    {
      "cell_type": "code",
      "source": [
        "kata = input('Masukkan kalimat: ').lower()\n",
        "print(f'Apakah terdapat kata \"python\"? {deteksi_kalimat(kata)}')"
      ],
      "metadata": {
        "colab": {
          "base_uri": "https://localhost:8080/"
        },
        "id": "NpV9M_9-81S6",
        "outputId": "249b52b3-c22e-4801-dfa9-683a86dd1547"
      },
      "execution_count": 84,
      "outputs": [
        {
          "output_type": "stream",
          "name": "stdout",
          "text": [
            "Masukkan kalimat: Python itu ular kannn\n",
            "Apakah terdapat kata \"python\"? True\n"
          ]
        }
      ]
    },
    {
      "cell_type": "code",
      "source": [
        "# pythonic way\n",
        "def cek_python(text):\n",
        "  return 'python' in text.lower()"
      ],
      "metadata": {
        "id": "BCkRXAk29kDg"
      },
      "execution_count": 85,
      "outputs": []
    },
    {
      "cell_type": "code",
      "source": [
        "cek_python('python')"
      ],
      "metadata": {
        "colab": {
          "base_uri": "https://localhost:8080/"
        },
        "id": "BhV_Yc3A_2Po",
        "outputId": "590476ab-5835-4fdd-df17-d5123d2bec84"
      },
      "execution_count": 86,
      "outputs": [
        {
          "output_type": "execute_result",
          "data": {
            "text/plain": [
              "True"
            ]
          },
          "metadata": {},
          "execution_count": 86
        }
      ]
    },
    {
      "cell_type": "code",
      "source": [
        "# *Args dan **Kwargs\n",
        "# args: argumenya bisa banyak\n",
        "def jumlah(a, b):\n",
        "  return a + b"
      ],
      "metadata": {
        "id": "ZM7Po9GG_5gn"
      },
      "execution_count": 87,
      "outputs": []
    },
    {
      "cell_type": "code",
      "source": [
        "jumlah(1, 2)"
      ],
      "metadata": {
        "colab": {
          "base_uri": "https://localhost:8080/"
        },
        "id": "mOUY1X2gAYzN",
        "outputId": "66b4162e-5942-442e-f854-1718b4fdb3e8"
      },
      "execution_count": 88,
      "outputs": [
        {
          "output_type": "execute_result",
          "data": {
            "text/plain": [
              "3"
            ]
          },
          "metadata": {},
          "execution_count": 88
        }
      ]
    },
    {
      "cell_type": "code",
      "source": [
        "def jumlah(a, b, c):\n",
        "  return a + b + c"
      ],
      "metadata": {
        "id": "B7s_CYx3Aa-0"
      },
      "execution_count": 89,
      "outputs": []
    },
    {
      "cell_type": "code",
      "source": [
        "jumlah(1,2,3)"
      ],
      "metadata": {
        "colab": {
          "base_uri": "https://localhost:8080/"
        },
        "id": "T5oTlN57AhL4",
        "outputId": "85b70ead-2fae-4de3-f127-9c85347fb030"
      },
      "execution_count": 90,
      "outputs": [
        {
          "output_type": "execute_result",
          "data": {
            "text/plain": [
              "6"
            ]
          },
          "metadata": {},
          "execution_count": 90
        }
      ]
    },
    {
      "cell_type": "code",
      "source": [
        "def jumlah(*args):\n",
        "  return sum(args)"
      ],
      "metadata": {
        "id": "maIDNoNGAkT5"
      },
      "execution_count": 91,
      "outputs": []
    },
    {
      "cell_type": "code",
      "source": [
        "jumlah(1, 2, 3, 4, 5, 6, 7, 8, 9)"
      ],
      "metadata": {
        "colab": {
          "base_uri": "https://localhost:8080/"
        },
        "id": "F8SXsRzQA4IY",
        "outputId": "2dc003af-13fc-410f-d589-6f23ba69447a"
      },
      "execution_count": 93,
      "outputs": [
        {
          "output_type": "execute_result",
          "data": {
            "text/plain": [
              "45"
            ]
          },
          "metadata": {},
          "execution_count": 93
        }
      ]
    },
    {
      "cell_type": "code",
      "source": [
        "#cek args\n",
        "# args berupa tuple sehingga bisa multiple namun data tidak bisa berubah\n",
        "def cek(*args):\n",
        "  print(args)"
      ],
      "metadata": {
        "id": "wnIUWfHEA8Pz"
      },
      "execution_count": 94,
      "outputs": []
    },
    {
      "cell_type": "code",
      "source": [
        "cek(1, 2, 3, 5, 7, 'zalfa')"
      ],
      "metadata": {
        "colab": {
          "base_uri": "https://localhost:8080/"
        },
        "id": "24AtaRwwBLSW",
        "outputId": "63c14a59-4c73-4974-a6df-08a74cfa0514"
      },
      "execution_count": 96,
      "outputs": [
        {
          "output_type": "stream",
          "name": "stdout",
          "text": [
            "(1, 2, 3, 5, 7, 'zalfa')\n"
          ]
        }
      ]
    },
    {
      "cell_type": "code",
      "source": [
        "# cek kwargs\n",
        "# digunakan untuk data yang ada = nya\n",
        "def cek_kwargs(**kwargs):\n",
        "  print(kwargs)"
      ],
      "metadata": {
        "id": "2l0QGBjhBNTY"
      },
      "execution_count": 102,
      "outputs": []
    },
    {
      "cell_type": "code",
      "source": [
        "# kwargs untuk banyak data dictionary\n",
        "cek_kwargs(nama='zalfa', umur='21')"
      ],
      "metadata": {
        "colab": {
          "base_uri": "https://localhost:8080/"
        },
        "id": "vt_ltmkgBoQ2",
        "outputId": "a78cbae9-7fe2-406c-904d-59b011227f2e"
      },
      "execution_count": 103,
      "outputs": [
        {
          "output_type": "stream",
          "name": "stdout",
          "text": [
            "{'nama': 'zalfa', 'umur': '21'}\n"
          ]
        }
      ]
    },
    {
      "cell_type": "code",
      "source": [
        "def cek_berat(**kwargs):\n",
        "  if 'budi' in kwargs:\n",
        "    print('berat budi msuk ke kategori {}'.format(kwargs['budi']))\n",
        "  else:\n",
        "    print('budi tidak ada di database')"
      ],
      "metadata": {
        "id": "iw43Y7M3Bvp7"
      },
      "execution_count": 106,
      "outputs": []
    },
    {
      "cell_type": "code",
      "source": [
        "cek_berat(budi='kurus', jenis='gemuk')"
      ],
      "metadata": {
        "colab": {
          "base_uri": "https://localhost:8080/"
        },
        "id": "6rMAODNcCpW8",
        "outputId": "3555c669-38b8-4c1c-f4df-ffd81d79f5ce"
      },
      "execution_count": 107,
      "outputs": [
        {
          "output_type": "stream",
          "name": "stdout",
          "text": [
            "berat budi msuk ke kategori kurus\n"
          ]
        }
      ]
    },
    {
      "cell_type": "code",
      "source": [
        "# menggabungkan args da kwargs\n",
        "def fungsiku(*args, **kwargs):\n",
        "  print('saya ingin membeli {} {} secara tunai' .format(args[0], kwargs['makanan']))"
      ],
      "metadata": {
        "id": "cxxebzM5CvuZ"
      },
      "execution_count": 108,
      "outputs": []
    },
    {
      "cell_type": "code",
      "source": [
        "fungsiku(10, 40, 50, makanan='mie ayam', minuman='es teh')"
      ],
      "metadata": {
        "colab": {
          "base_uri": "https://localhost:8080/"
        },
        "id": "wa5fGRZzDY1Q",
        "outputId": "7bae663e-a0e6-4d8d-da26-94f19b54a14d"
      },
      "execution_count": 109,
      "outputs": [
        {
          "output_type": "stream",
          "name": "stdout",
          "text": [
            "saya ingin membeli 10 mie ayam secara tunai\n"
          ]
        }
      ]
    },
    {
      "cell_type": "code",
      "source": [
        "# fungsi lamda\n",
        "# simple fungsi\n",
        "x = lambda a, b : a + b"
      ],
      "metadata": {
        "id": "5d6NN0hoDiHD"
      },
      "execution_count": 110,
      "outputs": []
    },
    {
      "cell_type": "code",
      "source": [
        "x(1, 2)"
      ],
      "metadata": {
        "colab": {
          "base_uri": "https://localhost:8080/"
        },
        "id": "qFCgG73XEsEI",
        "outputId": "5c060139-8653-4c06-c8af-c7bcdabec0b2"
      },
      "execution_count": 111,
      "outputs": [
        {
          "output_type": "execute_result",
          "data": {
            "text/plain": [
              "3"
            ]
          },
          "metadata": {},
          "execution_count": 111
        }
      ]
    },
    {
      "cell_type": "code",
      "source": [],
      "metadata": {
        "id": "_gm6NfrSEtqd"
      },
      "execution_count": null,
      "outputs": []
    }
  ]
}